{
 "cells": [
  {
   "cell_type": "code",
   "execution_count": 1,
   "id": "93726e18",
   "metadata": {},
   "outputs": [],
   "source": [
    "import matplotlib.pyplot as plt\n",
    "import numpy as np\n",
    "from eventio import SimTelFile\n",
    "import pickle as pkl\n",
    "import pandas as pd\n",
    "#"
   ]
  },
  {
   "cell_type": "code",
   "execution_count": 2,
   "id": "daff4047",
   "metadata": {},
   "outputs": [],
   "source": [
    "def print_ev_info(header, pe_inf, wf_arr):\n",
    "    #cout<<\"jentry   \"<<jentry<<endl;\n",
    "    #cout<<\"event_id \"<<event_id<<endl\n",
    "    #    <<\"energy   \"<<energy<<endl\n",
    "    #    <<\"xcore    \"<<xcore<<endl\n",
    "    #    <<\"ycore    \"<<ycore<<endl\n",
    "    #    <<\"ev_time  \"<<ev_time<<endl\n",
    "    #    <<\"nphotons \"<<nphotons<<endl\n",
    "    #    <<\"n_pe     \"<<n_pe<<endl\n",
    "    #    <<\"n_pixels \"<<n_pixels<<endl;\n",
    "    #for i in range(0,len(header)):\n",
    "    print(header.shape)\n",
    "    print(pe_inf.shape)\n",
    "    #\n",
    "    for i in range(0,10):\n",
    "        print(\"-----------------\")\n",
    "        print(\"jentry     \",i)\n",
    "        print(\"event_id   \",header[i,0])\n",
    "        print(\"energy     \",header[i,1])\n",
    "        print(\"xcore      \",header[i,2])\n",
    "        print(\"ycore      \",header[i,3])\n",
    "        print(\"ev_time    \",header[i,4])\n",
    "        print(\"nphotons   \",header[i,5])\n",
    "        print(\"n_pe       \",header[i,6])\n",
    "        print(\"n_pixels   \",header[i,7])\n",
    "        #\n",
    "        nn=header[i,6]\n",
    "        if nn > 10 :\n",
    "            nn=10\n",
    "        #\n",
    "        for j in range(0,nn):\n",
    "            print(pe_inf[j,1])\n",
    "        for j in range(0,nn):\n",
    "            print(pe_inf[j,2])\n",
    "        for j in range(0,nn):\n",
    "            print(wf_arr[0][0,j,0])\n",
    "            \n",
    "    #    \"xcore    \"xcore<<endl\n",
    "    #    \"ycore    \"ycore<<endl\n",
    "    #    \"ev_time  \"ev_time<<endl\n",
    "    #    \"nphotons \"nphotons<<endl\n",
    "    #    \"n_pe     \"n_pe<<endl\n",
    "    #    \"n_pixels \"n_pixels\n",
    "        "
   ]
  },
  {
   "cell_type": "code",
   "execution_count": 3,
   "id": "93679205",
   "metadata": {},
   "outputs": [
    {
     "name": "stdout",
     "output_type": "stream",
     "text": [
      "fadc_sum_offset   =  15\n",
      "fadc_amplitude    =  8.25\n",
      "fadc_MHz          =  1024\n",
      "fadc_sample_in_ns =  0.9765625\n",
      "fadc_bins         =  75\n",
      "time_offset       =  14.6484375\n"
     ]
    }
   ],
   "source": [
    "#header = pkl.load(open('../compressed_data/gamma/corsika_run307.header.pkl', 'rb'))\n",
    "#pe_inf = pkl.load(open('../compressed_data/gamma/corsika_run307.pe_info.pkl', 'rb'))\n",
    "#wf_inf = pkl.load(open('../compressed_data/gamma/corsika_run307.wf_info_00000.pkl', 'rb'))\n",
    "header = pkl.load(open('../compressed_data/no_nsb_cut/gamma/corsika_run307.header.pkl', 'rb'))\n",
    "pe_inf = pkl.load(open('../compressed_data/no_nsb_cut/gamma/corsika_run307.pe_info.pkl', 'rb'))\n",
    "wf_inf = pkl.load(open('../compressed_data/no_nsb_cut/gamma/corsika_run307.wf_info_00000.pkl', 'rb'))\n",
    "wf_pkl_list=!ls ../compressed_data/no_nsb_cut/gamma/corsika_run307.wf_info*.pkl\n",
    "#\n",
    "fadc_sum_offset=15\n",
    "fadc_amplitude=8.25\n",
    "fadc_MHz=1024\n",
    "fadc_sample_in_ns=1000.0/fadc_MHz\n",
    "time_offset=fadc_sum_offset*fadc_sample_in_ns\n",
    "fadc_bins=75\n",
    "#\n",
    "print('fadc_sum_offset   = ', fadc_sum_offset)\n",
    "print('fadc_amplitude    = ', fadc_amplitude)\n",
    "print('fadc_MHz          = ', fadc_MHz)\n",
    "print('fadc_sample_in_ns = ', fadc_sample_in_ns)\n",
    "print('fadc_bins         = ', fadc_bins)\n",
    "print('time_offset       = ', time_offset)\n",
    "#\n",
    "wf_times=np.array(range(fadc_bins))*1000.0/1024.0"
   ]
  },
  {
   "cell_type": "code",
   "execution_count": 4,
   "id": "033e9a37",
   "metadata": {},
   "outputs": [],
   "source": [
    "# event_id\n",
    "# energy\n",
    "# xcore\n",
    "# ycore\n",
    "# ev_time\n",
    "# nphotons\n",
    "# n_pe\n",
    "# n_pixels\n",
    "#header\n",
    "df_header = pd.DataFrame({'event_id': header[:,0], \n",
    "                          'energy': header[:,1],\n",
    "                          'xcore': header[:,2],\n",
    "                          'ycore': header[:,3],\n",
    "                          'ev_time': header[:,4],\n",
    "                          'nphotons': header[:,5],\n",
    "                          'n_pe': header[:,6],\n",
    "                          'n_pixels': header[:,7]})"
   ]
  },
  {
   "cell_type": "code",
   "execution_count": 5,
   "id": "6ce6ce02",
   "metadata": {},
   "outputs": [],
   "source": [
    "df_pe_inf = pd.DataFrame({'event_id': pe_inf[:,0], \n",
    "                          'pixel_id': pe_inf[:,1],\n",
    "                          'time': pe_inf[:,2]})"
   ]
  },
  {
   "cell_type": "code",
   "execution_count": 6,
   "id": "9aa394ed",
   "metadata": {},
   "outputs": [],
   "source": [
    "#df_header.to_csv('../compressed_data/no_nsb_cut/gamma/corsika_run307.header.csv',sep=' ',header=False)\n",
    "#df_pe_inf.to_csv('../compressed_data/no_nsb_cut/gamma/corsika_run307.pe_info.csv',sep=' ',header=False)"
   ]
  },
  {
   "cell_type": "code",
   "execution_count": 4,
   "id": "543306d1",
   "metadata": {},
   "outputs": [
    {
     "data": {
      "text/plain": [
       "(7987000, 75)"
      ]
     },
     "execution_count": 4,
     "metadata": {},
     "output_type": "execute_result"
    }
   ],
   "source": [
    "wf_inf.shape"
   ]
  },
  {
   "cell_type": "code",
   "execution_count": 7,
   "id": "563ac525",
   "metadata": {},
   "outputs": [],
   "source": [
    "wf_arr = [pkl.load(open(thefile, 'rb')) for thefile in wf_pkl_list]"
   ]
  },
  {
   "cell_type": "code",
   "execution_count": 8,
   "id": "3742f67f",
   "metadata": {},
   "outputs": [
    {
     "name": "stdout",
     "output_type": "stream",
     "text": [
      "(2857, 8)\n",
      "(2626640, 3)\n",
      "-----------------\n",
      "jentry      0\n",
      "event_id    200.0\n",
      "energy      0.7915171980857849\n",
      "xcore       66.2419204711914\n",
      "ycore       -169.16844177246094\n",
      "ev_time     -205.8639678955078\n",
      "nphotons    13226.0\n",
      "n_pe        4730.0\n",
      "n_pixels    568.0\n",
      "32.0\n",
      "207.0\n",
      "207.0\n",
      "672.0\n",
      "1407.0\n",
      "1407.0\n",
      "1408.0\n",
      "1522.0\n",
      "1783.0\n",
      "2419.0\n",
      "-182.24424743652344\n",
      "-150.49803161621094\n",
      "-150.49496459960938\n",
      "-137.1856689453125\n",
      "-171.41986083984375\n",
      "-171.4193115234375\n",
      "-171.44947814941406\n",
      "-178.20062255859375\n",
      "-178.30624389648438\n",
      "-173.4148712158203\n",
      "307\n",
      "298\n",
      "295\n",
      "299\n",
      "303\n",
      "291\n",
      "295\n",
      "297\n",
      "299\n",
      "298\n",
      "-----------------\n",
      "jentry      1\n",
      "event_id    201.0\n",
      "energy      0.7915171980857849\n",
      "xcore       44.880523681640625\n",
      "ycore       -323.8881530761719\n",
      "ev_time     -171.30230712890625\n",
      "nphotons    4910.0\n",
      "n_pe        1120.0\n",
      "n_pixels    260.0\n",
      "32.0\n",
      "207.0\n",
      "207.0\n",
      "672.0\n",
      "1407.0\n",
      "1407.0\n",
      "1408.0\n",
      "1522.0\n",
      "1783.0\n",
      "2419.0\n",
      "-182.24424743652344\n",
      "-150.49803161621094\n",
      "-150.49496459960938\n",
      "-137.1856689453125\n",
      "-171.41986083984375\n",
      "-171.4193115234375\n",
      "-171.44947814941406\n",
      "-178.20062255859375\n",
      "-178.30624389648438\n",
      "-173.4148712158203\n",
      "307\n",
      "298\n",
      "295\n",
      "299\n",
      "303\n",
      "291\n",
      "295\n",
      "297\n",
      "299\n",
      "298\n",
      "-----------------\n",
      "jentry      2\n",
      "event_id    206.0\n",
      "energy      0.7915171980857849\n",
      "xcore       58.110416412353516\n",
      "ycore       -433.7188720703125\n",
      "ev_time     -176.9620819091797\n",
      "nphotons    2913.0\n",
      "n_pe        165.0\n",
      "n_pixels    79.0\n",
      "32.0\n",
      "207.0\n",
      "207.0\n",
      "672.0\n",
      "1407.0\n",
      "1407.0\n",
      "1408.0\n",
      "1522.0\n",
      "1783.0\n",
      "2419.0\n",
      "-182.24424743652344\n",
      "-150.49803161621094\n",
      "-150.49496459960938\n",
      "-137.1856689453125\n",
      "-171.41986083984375\n",
      "-171.4193115234375\n",
      "-171.44947814941406\n",
      "-178.20062255859375\n",
      "-178.30624389648438\n",
      "-173.4148712158203\n",
      "307\n",
      "298\n",
      "295\n",
      "299\n",
      "303\n",
      "291\n",
      "295\n",
      "297\n",
      "299\n",
      "298\n",
      "-----------------\n",
      "jentry      3\n",
      "event_id    3302.0\n",
      "energy      0.08779948949813843\n",
      "xcore       110.08503723144531\n",
      "ycore       355.41387939453125\n",
      "ev_time     -239.73681640625\n",
      "nphotons    328.0\n",
      "n_pe        111.0\n",
      "n_pixels    68.0\n",
      "32.0\n",
      "207.0\n",
      "207.0\n",
      "672.0\n",
      "1407.0\n",
      "1407.0\n",
      "1408.0\n",
      "1522.0\n",
      "1783.0\n",
      "2419.0\n",
      "-182.24424743652344\n",
      "-150.49803161621094\n",
      "-150.49496459960938\n",
      "-137.1856689453125\n",
      "-171.41986083984375\n",
      "-171.4193115234375\n",
      "-171.44947814941406\n",
      "-178.20062255859375\n",
      "-178.30624389648438\n",
      "-173.4148712158203\n",
      "307\n",
      "298\n",
      "295\n",
      "299\n",
      "303\n",
      "291\n",
      "295\n",
      "297\n",
      "299\n",
      "298\n",
      "-----------------\n",
      "jentry      4\n",
      "event_id    3305.0\n",
      "energy      0.08779948949813843\n",
      "xcore       -97.25981140136719\n",
      "ycore       278.4234619140625\n",
      "ev_time     -10.29224967956543\n",
      "nphotons    537.0\n",
      "n_pe        166.0\n",
      "n_pixels    82.0\n",
      "32.0\n",
      "207.0\n",
      "207.0\n",
      "672.0\n",
      "1407.0\n",
      "1407.0\n",
      "1408.0\n",
      "1522.0\n",
      "1783.0\n",
      "2419.0\n",
      "-182.24424743652344\n",
      "-150.49803161621094\n",
      "-150.49496459960938\n",
      "-137.1856689453125\n",
      "-171.41986083984375\n",
      "-171.4193115234375\n",
      "-171.44947814941406\n",
      "-178.20062255859375\n",
      "-178.30624389648438\n",
      "-173.4148712158203\n",
      "307\n",
      "298\n",
      "295\n",
      "299\n",
      "303\n",
      "291\n",
      "295\n",
      "297\n",
      "299\n",
      "298\n",
      "-----------------\n",
      "jentry      5\n",
      "event_id    3602.0\n",
      "energy      0.020377332344651222\n",
      "xcore       -162.60614013671875\n",
      "ycore       120.90653991699219\n",
      "ev_time     55.82184982299805\n",
      "nphotons    298.0\n",
      "n_pe        137.0\n",
      "n_pixels    44.0\n",
      "32.0\n",
      "207.0\n",
      "207.0\n",
      "672.0\n",
      "1407.0\n",
      "1407.0\n",
      "1408.0\n",
      "1522.0\n",
      "1783.0\n",
      "2419.0\n",
      "-182.24424743652344\n",
      "-150.49803161621094\n",
      "-150.49496459960938\n",
      "-137.1856689453125\n",
      "-171.41986083984375\n",
      "-171.4193115234375\n",
      "-171.44947814941406\n",
      "-178.20062255859375\n",
      "-178.30624389648438\n",
      "-173.4148712158203\n",
      "307\n",
      "298\n",
      "295\n",
      "299\n",
      "303\n",
      "291\n",
      "295\n",
      "297\n",
      "299\n",
      "298\n",
      "-----------------\n",
      "jentry      6\n",
      "event_id    3909.0\n",
      "energy      0.02558717131614685\n",
      "xcore       -156.00112915039062\n",
      "ycore       99.25157928466797\n",
      "ev_time     47.150535583496094\n",
      "nphotons    303.0\n",
      "n_pe        114.0\n",
      "n_pixels    50.0\n",
      "32.0\n",
      "207.0\n",
      "207.0\n",
      "672.0\n",
      "1407.0\n",
      "1407.0\n",
      "1408.0\n",
      "1522.0\n",
      "1783.0\n",
      "2419.0\n",
      "-182.24424743652344\n",
      "-150.49803161621094\n",
      "-150.49496459960938\n",
      "-137.1856689453125\n",
      "-171.41986083984375\n",
      "-171.4193115234375\n",
      "-171.44947814941406\n",
      "-178.20062255859375\n",
      "-178.30624389648438\n",
      "-173.4148712158203\n",
      "307\n",
      "298\n",
      "295\n",
      "299\n",
      "303\n",
      "291\n",
      "295\n",
      "297\n",
      "299\n",
      "298\n",
      "-----------------\n",
      "jentry      7\n",
      "event_id    4004.0\n",
      "energy      0.028829509392380714\n",
      "xcore       56.228302001953125\n",
      "ycore       345.6240539550781\n",
      "ev_time     -189.72206115722656\n",
      "nphotons    557.0\n",
      "n_pe        245.0\n",
      "n_pixels    71.0\n",
      "32.0\n",
      "207.0\n",
      "207.0\n",
      "672.0\n",
      "1407.0\n",
      "1407.0\n",
      "1408.0\n",
      "1522.0\n",
      "1783.0\n",
      "2419.0\n",
      "-182.24424743652344\n",
      "-150.49803161621094\n",
      "-150.49496459960938\n",
      "-137.1856689453125\n",
      "-171.41986083984375\n",
      "-171.4193115234375\n",
      "-171.44947814941406\n",
      "-178.20062255859375\n",
      "-178.30624389648438\n",
      "-173.4148712158203\n",
      "307\n",
      "298\n",
      "295\n",
      "299\n",
      "303\n",
      "291\n",
      "295\n",
      "297\n",
      "299\n",
      "298\n",
      "-----------------\n",
      "jentry      8\n",
      "event_id    4101.0\n",
      "energy      2.3191676139831543\n",
      "xcore       -310.8278503417969\n",
      "ycore       -420.9661865234375\n",
      "ev_time     247.4812469482422\n",
      "nphotons    6213.0\n",
      "n_pe        452.0\n",
      "n_pixels    138.0\n",
      "32.0\n",
      "207.0\n",
      "207.0\n",
      "672.0\n",
      "1407.0\n",
      "1407.0\n",
      "1408.0\n",
      "1522.0\n",
      "1783.0\n",
      "2419.0\n",
      "-182.24424743652344\n",
      "-150.49803161621094\n",
      "-150.49496459960938\n",
      "-137.1856689453125\n",
      "-171.41986083984375\n",
      "-171.4193115234375\n",
      "-171.44947814941406\n",
      "-178.20062255859375\n",
      "-178.30624389648438\n",
      "-173.4148712158203\n",
      "307\n",
      "298\n",
      "295\n",
      "299\n",
      "303\n",
      "291\n",
      "295\n",
      "297\n",
      "299\n",
      "298\n",
      "-----------------\n",
      "jentry      9\n",
      "event_id    4102.0\n",
      "energy      2.3191676139831543\n",
      "xcore       -26.319591522216797\n",
      "ycore       8.3538818359375\n",
      "ev_time     -103.98478698730469\n",
      "nphotons    56563.0\n",
      "n_pe        22071.0\n",
      "n_pixels    1470.0\n",
      "32.0\n",
      "207.0\n",
      "207.0\n",
      "672.0\n",
      "1407.0\n",
      "1407.0\n",
      "1408.0\n",
      "1522.0\n",
      "1783.0\n",
      "2419.0\n",
      "-182.24424743652344\n",
      "-150.49803161621094\n",
      "-150.49496459960938\n",
      "-137.1856689453125\n",
      "-171.41986083984375\n",
      "-171.4193115234375\n",
      "-171.44947814941406\n",
      "-178.20062255859375\n",
      "-178.30624389648438\n",
      "-173.4148712158203\n",
      "307\n",
      "298\n",
      "295\n",
      "299\n",
      "303\n",
      "291\n",
      "295\n",
      "297\n",
      "299\n",
      "298\n"
     ]
    }
   ],
   "source": [
    "print_ev_info(header, pe_inf, wf_arr)"
   ]
  },
  {
   "cell_type": "code",
   "execution_count": 9,
   "id": "ad9b3f8a",
   "metadata": {},
   "outputs": [
    {
     "data": {
      "text/plain": [
       "(7987, 75, 1000)"
      ]
     },
     "execution_count": 9,
     "metadata": {},
     "output_type": "execute_result"
    }
   ],
   "source": [
    "(wf_arr[0].shape)"
   ]
  },
  {
   "cell_type": "code",
   "execution_count": 7,
   "id": "d20260a6",
   "metadata": {},
   "outputs": [],
   "source": [
    "np.savetxt('data.csv', wf_inf, delimiter=' ',fmt='%i')"
   ]
  },
  {
   "cell_type": "code",
   "execution_count": 6,
   "id": "b8d0012a",
   "metadata": {},
   "outputs": [
    {
     "data": {
      "text/plain": [
       "array([[307, 298, 295, ..., 299, 304, 295],\n",
       "       [301, 299, 300, ..., 300, 297, 299],\n",
       "       [302, 304, 308, ..., 300, 293, 301],\n",
       "       ...,\n",
       "       [301, 302, 297, ..., 301, 302, 295],\n",
       "       [303, 302, 302, ..., 302, 299, 299],\n",
       "       [303, 301, 293, ..., 304, 296, 299]], dtype=uint16)"
      ]
     },
     "execution_count": 6,
     "metadata": {},
     "output_type": "execute_result"
    }
   ],
   "source": [
    "wf_inf"
   ]
  },
  {
   "cell_type": "code",
   "execution_count": 10,
   "id": "d0ea4cdc",
   "metadata": {},
   "outputs": [],
   "source": [
    "#for i in range(len(wf_arr)):\n",
    "#    wf_arr[i]=wf_arr[i].reshape((wf_arr[i].shape[0]*wf_arr[i].shape[2],wf_arr[i].shape[1]))"
   ]
  },
  {
   "cell_type": "code",
   "execution_count": 11,
   "id": "79ac84dd",
   "metadata": {},
   "outputs": [
    {
     "name": "stdout",
     "output_type": "stream",
     "text": [
      "(7987, 75, 1000)\n"
     ]
    }
   ],
   "source": [
    "#wf_arr_tot=np.append(wf_arr[0],wf_arr[1],axis=0)\n",
    "#wf_arr_tot=np.append(wf_arr_tot,wf_arr[2],axis=0)\n",
    "print(wf_arr[0].shape)"
   ]
  },
  {
   "cell_type": "code",
   "execution_count": 12,
   "id": "e4970d5e",
   "metadata": {},
   "outputs": [],
   "source": [
    "#df_wf=pd.DataFrame(wf_arr_tot, columns=[str(j) for j in range(75)])"
   ]
  },
  {
   "cell_type": "code",
   "execution_count": 13,
   "id": "5b730e27",
   "metadata": {},
   "outputs": [],
   "source": [
    "#df_wf.to_csv('../compressed_data/no_nsb_cut/gamma/corsika_run307.wf_info.csv',sep=' ',header=False)"
   ]
  },
  {
   "cell_type": "code",
   "execution_count": 14,
   "id": "f72eade7",
   "metadata": {},
   "outputs": [],
   "source": [
    "#wf_arr = pkl.load(open(thefile, 'rb'))\n",
    "    #print(thefile)\n",
    "    #wf_arr = pkl.load(open(thefile, 'rb'))\n",
    "    #print(wf_arr.shape)\n",
    "    #df_wf=pd.DataFrame(wf_arr[:,:,0], columns=[str(j) for j in range(wf_arr.shape[1])])\n",
    "    #for i_ev in range (1,wf_arr.shape[2]):\n",
    "    #for i in range (wf_inf.shape[2]):\n",
    "    #df=pd.DataFrame({'event_id': header[:,0], \n",
    "    #                     'energy': header[:,1],\n",
    "    #                     'xcore': header[:,2],\n",
    "    #                    'ycore': header[:,3],\n",
    "    #                   'ev_time': header[:,4],\n",
    "    #                  'nphotons': header[:,5],\n",
    "    #                 'n_pe': header[:,6],\n",
    "    #                'n_pixels': header[:,7]})\n",
    "    #df=pd.DataFrame(wf_inf[:,:,0], columns=[str(j) for j in range(75)])"
   ]
  },
  {
   "cell_type": "code",
   "execution_count": 12,
   "id": "aa0c0d3f",
   "metadata": {},
   "outputs": [],
   "source": [
    "#df_header_cut=df_header[df_header.index<1000]"
   ]
  },
  {
   "cell_type": "code",
   "execution_count": 15,
   "id": "5cb8fe5a",
   "metadata": {},
   "outputs": [
    {
     "data": {
      "text/html": [
       "<div>\n",
       "<style scoped>\n",
       "    .dataframe tbody tr th:only-of-type {\n",
       "        vertical-align: middle;\n",
       "    }\n",
       "\n",
       "    .dataframe tbody tr th {\n",
       "        vertical-align: top;\n",
       "    }\n",
       "\n",
       "    .dataframe thead th {\n",
       "        text-align: right;\n",
       "    }\n",
       "</style>\n",
       "<table border=\"1\" class=\"dataframe\">\n",
       "  <thead>\n",
       "    <tr style=\"text-align: right;\">\n",
       "      <th></th>\n",
       "      <th>event_id</th>\n",
       "      <th>energy</th>\n",
       "      <th>xcore</th>\n",
       "      <th>ycore</th>\n",
       "      <th>ev_time</th>\n",
       "      <th>nphotons</th>\n",
       "      <th>n_pe</th>\n",
       "      <th>n_pixels</th>\n",
       "    </tr>\n",
       "  </thead>\n",
       "  <tbody>\n",
       "    <tr>\n",
       "      <th>2500</th>\n",
       "      <td>881406.0</td>\n",
       "      <td>21.42593</td>\n",
       "      <td>-30.53093</td>\n",
       "      <td>-111.184082</td>\n",
       "      <td>-100.075691</td>\n",
       "      <td>1073086.0</td>\n",
       "      <td>405309.0</td>\n",
       "      <td>4581.0</td>\n",
       "    </tr>\n",
       "  </tbody>\n",
       "</table>\n",
       "</div>"
      ],
      "text/plain": [
       "      event_id    energy     xcore       ycore     ev_time   nphotons  \\\n",
       "2500  881406.0  21.42593 -30.53093 -111.184082 -100.075691  1073086.0   \n",
       "\n",
       "          n_pe  n_pixels  \n",
       "2500  405309.0    4581.0  "
      ]
     },
     "execution_count": 15,
     "metadata": {},
     "output_type": "execute_result"
    }
   ],
   "source": [
    "df_header[df_header['n_pe']>400000]"
   ]
  },
  {
   "cell_type": "code",
   "execution_count": 16,
   "id": "a2a81b14",
   "metadata": {},
   "outputs": [
    {
     "data": {
      "text/plain": [
       "count    405309.000000\n",
       "mean       3330.659938\n",
       "std         710.964265\n",
       "min           0.000000\n",
       "25%        2773.000000\n",
       "50%        3032.000000\n",
       "75%        4048.000000\n",
       "max        7976.000000\n",
       "Name: pixel_id, dtype: float64"
      ]
     },
     "execution_count": 16,
     "metadata": {},
     "output_type": "execute_result"
    }
   ],
   "source": [
    "df_pe_inf[df_pe_inf['event_id']==881406.0]['pixel_id'].describe()"
   ]
  },
  {
   "cell_type": "code",
   "execution_count": 17,
   "id": "abbf0d55",
   "metadata": {},
   "outputs": [
    {
     "data": {
      "text/plain": [
       "405309"
      ]
     },
     "execution_count": 17,
     "metadata": {},
     "output_type": "execute_result"
    }
   ],
   "source": [
    "len(df_pe_inf[df_pe_inf['event_id']==881406.0])"
   ]
  },
  {
   "cell_type": "code",
   "execution_count": 18,
   "id": "c1e4a67f",
   "metadata": {},
   "outputs": [
    {
     "data": {
      "text/plain": [
       "<Axes: >"
      ]
     },
     "execution_count": 18,
     "metadata": {},
     "output_type": "execute_result"
    },
    {
     "data": {
      "image/png": "[encoded data removed]",
      "text/plain": [
       "<Figure size 640x480 with 1 Axes>"
      ]
     },
     "metadata": {},
     "output_type": "display_data"
    }
   ],
   "source": [
    "df_pe_inf[df_pe_inf['event_id']==881406.0]['pixel_id'].hist(bins=100,range=(4047,4051))"
   ]
  },
  {
   "cell_type": "code",
   "execution_count": 19,
   "id": "9fc12a66",
   "metadata": {},
   "outputs": [
    {
     "data": {
      "text/plain": [
       "934"
      ]
     },
     "execution_count": 19,
     "metadata": {},
     "output_type": "execute_result"
    }
   ],
   "source": [
    "np.sum(df_pe_inf[df_pe_inf['event_id']==881406.0]['pixel_id']==4047)"
   ]
  },
  {
   "cell_type": "code",
   "execution_count": 20,
   "id": "9d01c5b7",
   "metadata": {},
   "outputs": [
    {
     "data": {
      "text/plain": [
       "[<matplotlib.lines.Line2D at 0x7f08444a9210>]"
      ]
     },
     "execution_count": 20,
     "metadata": {},
     "output_type": "execute_result"
    },
    {
     "data": {
      "image/png": "[encoded data removed]",
      "text/plain": [
       "<Figure size 640x480 with 1 Axes>"
      ]
     },
     "metadata": {},
     "output_type": "display_data"
    }
   ],
   "source": [
    "plt.plot(wf_arr[2][4047,:,500])"
   ]
  },
  {
   "cell_type": "code",
   "execution_count": 26,
   "id": "1332f877",
   "metadata": {},
   "outputs": [
    {
     "ename": "ValueError",
     "evalue": "Expected 1D or 2D array, got 3D array instead",
     "output_type": "error",
     "traceback": [
      "\u001b[0;31m---------------------------------------------------------------------------\u001b[0m",
      "\u001b[0;31mValueError\u001b[0m                                Traceback (most recent call last)",
      "Cell \u001b[0;32mIn[26], line 1\u001b[0m\n\u001b[0;32m----> 1\u001b[0m np\u001b[38;5;241m.\u001b[39msavetxt(\u001b[38;5;124m'\u001b[39m\u001b[38;5;124mdat_000.csv\u001b[39m\u001b[38;5;124m'\u001b[39m,wf_arr[\u001b[38;5;241m0\u001b[39m],delimiter\u001b[38;5;241m=\u001b[39m\u001b[38;5;124m'\u001b[39m\u001b[38;5;124m \u001b[39m\u001b[38;5;124m'\u001b[39m)\n",
      "File \u001b[0;32m<__array_function__ internals>:200\u001b[0m, in \u001b[0;36msavetxt\u001b[0;34m(*args, **kwargs)\u001b[0m\n",
      "File \u001b[0;32m~/miniconda3/envs/pyeventio/lib/python3.11/site-packages/numpy/lib/npyio.py:1555\u001b[0m, in \u001b[0;36msavetxt\u001b[0;34m(fname, X, fmt, delimiter, newline, header, footer, comments, encoding)\u001b[0m\n\u001b[1;32m   1553\u001b[0m \u001b[38;5;66;03m# Handle 1-dimensional arrays\u001b[39;00m\n\u001b[1;32m   1554\u001b[0m \u001b[38;5;28;01mif\u001b[39;00m X\u001b[38;5;241m.\u001b[39mndim \u001b[38;5;241m==\u001b[39m \u001b[38;5;241m0\u001b[39m \u001b[38;5;129;01mor\u001b[39;00m X\u001b[38;5;241m.\u001b[39mndim \u001b[38;5;241m>\u001b[39m \u001b[38;5;241m2\u001b[39m:\n\u001b[0;32m-> 1555\u001b[0m     \u001b[38;5;28;01mraise\u001b[39;00m \u001b[38;5;167;01mValueError\u001b[39;00m(\n\u001b[1;32m   1556\u001b[0m         \u001b[38;5;124m\"\u001b[39m\u001b[38;5;124mExpected 1D or 2D array, got \u001b[39m\u001b[38;5;132;01m%d\u001b[39;00m\u001b[38;5;124mD array instead\u001b[39m\u001b[38;5;124m\"\u001b[39m \u001b[38;5;241m%\u001b[39m X\u001b[38;5;241m.\u001b[39mndim)\n\u001b[1;32m   1557\u001b[0m \u001b[38;5;28;01melif\u001b[39;00m X\u001b[38;5;241m.\u001b[39mndim \u001b[38;5;241m==\u001b[39m \u001b[38;5;241m1\u001b[39m:\n\u001b[1;32m   1558\u001b[0m     \u001b[38;5;66;03m# Common case -- 1d array of numbers\u001b[39;00m\n\u001b[1;32m   1559\u001b[0m     \u001b[38;5;28;01mif\u001b[39;00m X\u001b[38;5;241m.\u001b[39mdtype\u001b[38;5;241m.\u001b[39mnames \u001b[38;5;129;01mis\u001b[39;00m \u001b[38;5;28;01mNone\u001b[39;00m:\n",
      "\u001b[0;31mValueError\u001b[0m: Expected 1D or 2D array, got 3D array instead"
     ]
    }
   ],
   "source": [
    "np.savetxt('dat_000.csv',wf_arr[0],delimiter=' ')"
   ]
  },
  {
   "cell_type": "code",
   "execution_count": 25,
   "id": "44374155",
   "metadata": {},
   "outputs": [
    {
     "data": {
      "text/plain": [
       "<Axes: >"
      ]
     },
     "execution_count": 25,
     "metadata": {},
     "output_type": "execute_result"
    },
    {
     "data": {
      "image/png": "[encoded data removed]",
      "text/plain": [
       "<Figure size 640x480 with 1 Axes>"
      ]
     },
     "metadata": {},
     "output_type": "display_data"
    }
   ],
   "source": [
    "df_header['n_pe'].hist(bins=100,range=(1,200))"
   ]
  },
  {
   "cell_type": "code",
   "execution_count": 19,
   "id": "32b5956d",
   "metadata": {},
   "outputs": [
    {
     "data": {
      "text/plain": [
       "7098"
      ]
     },
     "execution_count": 19,
     "metadata": {},
     "output_type": "execute_result"
    }
   ],
   "source": [
    "np.max(wf_arr[2][4047,:,500])"
   ]
  },
  {
   "cell_type": "code",
   "execution_count": 20,
   "id": "63aa1f41",
   "metadata": {},
   "outputs": [
    {
     "data": {
      "text/plain": [
       "292"
      ]
     },
     "execution_count": 20,
     "metadata": {},
     "output_type": "execute_result"
    }
   ],
   "source": [
    "np.min(wf_arr[2][4047,:,500])"
   ]
  },
  {
   "cell_type": "code",
   "execution_count": 21,
   "id": "2154f193",
   "metadata": {},
   "outputs": [
    {
     "data": {
      "text/plain": [
       "7.28693790149893"
      ]
     },
     "execution_count": 21,
     "metadata": {},
     "output_type": "execute_result"
    }
   ],
   "source": [
    "(7098.0-292)/934.0"
   ]
  },
  {
   "cell_type": "code",
   "execution_count": 22,
   "id": "574f7717",
   "metadata": {},
   "outputs": [
    {
     "data": {
      "text/plain": [
       "0"
      ]
     },
     "execution_count": 22,
     "metadata": {},
     "output_type": "execute_result"
    }
   ],
   "source": [
    "[i for i in range(0,1000)][0]"
   ]
  },
  {
   "cell_type": "code",
   "execution_count": 2,
   "id": "5c970ac5",
   "metadata": {},
   "outputs": [],
   "source": [
    "arr_test_01=np.array([np.zeros((3,3))+0,np.zeros((3,3))+1,np.zeros((3,3))+2])\n",
    "arr_test_02=np.array([np.zeros((3,3))+3,np.zeros((3,3))+4,np.zeros((3,3))+5])\n",
    "arr_test_03=np.array([np.zeros((3,3))+6,np.zeros((3,3))+7,np.zeros((3,3))+8])"
   ]
  },
  {
   "cell_type": "code",
   "execution_count": 13,
   "id": "8f23f597",
   "metadata": {},
   "outputs": [
    {
     "data": {
      "text/plain": [
       "array([[0., 0., 0.],\n",
       "       [0., 0., 0.],\n",
       "       [0., 0., 0.]])"
      ]
     },
     "execution_count": 13,
     "metadata": {},
     "output_type": "execute_result"
    }
   ],
   "source": [
    "A=np.array(np.zeros((3,3)))\n",
    "A"
   ]
  },
  {
   "cell_type": "code",
   "execution_count": 14,
   "id": "756a2295",
   "metadata": {},
   "outputs": [
    {
     "data": {
      "text/plain": [
       "array([[1.],\n",
       "       [1.],\n",
       "       [1.]])"
      ]
     },
     "execution_count": 14,
     "metadata": {},
     "output_type": "execute_result"
    }
   ],
   "source": [
    "B=np.array(np.zeros((3,1))+1.0)\n",
    "B"
   ]
  },
  {
   "cell_type": "code",
   "execution_count": 16,
   "id": "7e2fcfca",
   "metadata": {},
   "outputs": [
    {
     "data": {
      "text/plain": [
       "array([[1., 0., 0., 0.],\n",
       "       [1., 0., 0., 0.],\n",
       "       [1., 0., 0., 0.]])"
      ]
     },
     "execution_count": 16,
     "metadata": {},
     "output_type": "execute_result"
    }
   ],
   "source": [
    "C=np.append(B,A,axis=1)\n",
    "C"
   ]
  },
  {
   "cell_type": "code",
   "execution_count": null,
   "id": "0c931d5b",
   "metadata": {},
   "outputs": [],
   "source": [
    "arr_test=np.append(arr_test_01,arr_test_02,axis=0)"
   ]
  },
  {
   "cell_type": "code",
   "execution_count": 3,
   "id": "01d0c111",
   "metadata": {},
   "outputs": [],
   "source": [
    "arr_test=np.append(arr_test_01,arr_test_02,axis=0)"
   ]
  },
  {
   "cell_type": "code",
   "execution_count": 4,
   "id": "dd5ccb2b",
   "metadata": {},
   "outputs": [],
   "source": [
    "arr_test=np.append(arr_test,arr_test_03,axis=0)"
   ]
  },
  {
   "cell_type": "code",
   "execution_count": 6,
   "id": "a8639ded",
   "metadata": {},
   "outputs": [
    {
     "data": {
      "text/plain": [
       "array([[[0., 0., 0.],\n",
       "        [0., 0., 0.],\n",
       "        [0., 0., 0.]],\n",
       "\n",
       "       [[1., 1., 1.],\n",
       "        [1., 1., 1.],\n",
       "        [1., 1., 1.]],\n",
       "\n",
       "       [[2., 2., 2.],\n",
       "        [2., 2., 2.],\n",
       "        [2., 2., 2.]],\n",
       "\n",
       "       [[3., 3., 3.],\n",
       "        [3., 3., 3.],\n",
       "        [3., 3., 3.]],\n",
       "\n",
       "       [[4., 4., 4.],\n",
       "        [4., 4., 4.],\n",
       "        [4., 4., 4.]],\n",
       "\n",
       "       [[5., 5., 5.],\n",
       "        [5., 5., 5.],\n",
       "        [5., 5., 5.]],\n",
       "\n",
       "       [[6., 6., 6.],\n",
       "        [6., 6., 6.],\n",
       "        [6., 6., 6.]],\n",
       "\n",
       "       [[7., 7., 7.],\n",
       "        [7., 7., 7.],\n",
       "        [7., 7., 7.]],\n",
       "\n",
       "       [[8., 8., 8.],\n",
       "        [8., 8., 8.],\n",
       "        [8., 8., 8.]]])"
      ]
     },
     "execution_count": 6,
     "metadata": {},
     "output_type": "execute_result"
    }
   ],
   "source": [
    "arr_test"
   ]
  },
  {
   "cell_type": "code",
   "execution_count": 79,
   "id": "893ed1e6",
   "metadata": {},
   "outputs": [
    {
     "data": {
      "text/plain": [
       "(3, 3, 3)"
      ]
     },
     "execution_count": 79,
     "metadata": {},
     "output_type": "execute_result"
    }
   ],
   "source": [
    "arr_test_01.shape"
   ]
  },
  {
   "cell_type": "code",
   "execution_count": 72,
   "id": "bf06f445",
   "metadata": {},
   "outputs": [
    {
     "data": {
      "text/plain": [
       "array([[0., 0., 0.],\n",
       "       [0., 0., 0.],\n",
       "       [0., 0., 0.],\n",
       "       [1., 1., 1.],\n",
       "       [1., 1., 1.],\n",
       "       [1., 1., 1.],\n",
       "       [2., 2., 2.],\n",
       "       [2., 2., 2.],\n",
       "       [2., 2., 2.]])"
      ]
     },
     "execution_count": 72,
     "metadata": {},
     "output_type": "execute_result"
    }
   ],
   "source": [
    "arr_test.reshape((9,3))"
   ]
  },
  {
   "cell_type": "code",
   "execution_count": 73,
   "id": "b13bc818",
   "metadata": {},
   "outputs": [
    {
     "data": {
      "text/plain": [
       "array([1, 2, 3, 4, 5, 6, 7, 8, 9])"
      ]
     },
     "execution_count": 73,
     "metadata": {},
     "output_type": "execute_result"
    }
   ],
   "source": [
    "np.append([1, 2, 3], [[4, 5, 6], [7, 8, 9]])"
   ]
  },
  {
   "cell_type": "code",
   "execution_count": 53,
   "id": "b67175bd",
   "metadata": {},
   "outputs": [
    {
     "data": {
      "text/plain": [
       "'../compressed_data/no_nsb_cut/gamma/corsika_run307.wf_info_00002.pkl'"
      ]
     },
     "execution_count": 53,
     "metadata": {},
     "output_type": "execute_result"
    }
   ],
   "source": [
    "wf_pkl_list[2]"
   ]
  },
  {
   "cell_type": "code",
   "execution_count": 44,
   "id": "4f256e4f",
   "metadata": {},
   "outputs": [
    {
     "data": {
      "text/plain": [
       "<Axes: >"
      ]
     },
     "execution_count": 44,
     "metadata": {},
     "output_type": "execute_result"
    },
    {
     "data": {
      "image/png": "[encoded data removed]",
      "text/plain": [
       "<Figure size 640x480 with 1 Axes>"
      ]
     },
     "metadata": {},
     "output_type": "display_data"
    }
   ],
   "source": [
    "df['49'].plot()"
   ]
  },
  {
   "cell_type": "code",
   "execution_count": 6,
   "id": "7aec701f",
   "metadata": {},
   "outputs": [],
   "source": [
    "df_header_short=df_header[0:1000]"
   ]
  },
  {
   "cell_type": "code",
   "execution_count": 7,
   "id": "4c6884e7",
   "metadata": {},
   "outputs": [
    {
     "data": {
      "text/plain": [
       "<Axes: >"
      ]
     },
     "execution_count": 7,
     "metadata": {},
     "output_type": "execute_result"
    },
    {
     "data": {
      "image/png": "[encoded data removed]",
      "text/plain": [
       "<Figure size 640x480 with 1 Axes>"
      ]
     },
     "metadata": {},
     "output_type": "display_data"
    }
   ],
   "source": [
    "df_header_short['energy'].hist(bins=100,range=(0.01,3))"
   ]
  },
  {
   "cell_type": "code",
   "execution_count": 8,
   "id": "cd917114",
   "metadata": {},
   "outputs": [
    {
     "data": {
      "text/html": [
       "<div>\n",
       "<style scoped>\n",
       "    .dataframe tbody tr th:only-of-type {\n",
       "        vertical-align: middle;\n",
       "    }\n",
       "\n",
       "    .dataframe tbody tr th {\n",
       "        vertical-align: top;\n",
       "    }\n",
       "\n",
       "    .dataframe thead th {\n",
       "        text-align: right;\n",
       "    }\n",
       "</style>\n",
       "<table border=\"1\" class=\"dataframe\">\n",
       "  <thead>\n",
       "    <tr style=\"text-align: right;\">\n",
       "      <th></th>\n",
       "      <th>event_id</th>\n",
       "      <th>energy</th>\n",
       "      <th>xcore</th>\n",
       "      <th>ycore</th>\n",
       "      <th>ev_time</th>\n",
       "      <th>nphotons</th>\n",
       "      <th>n_pe</th>\n",
       "      <th>n_pixels</th>\n",
       "    </tr>\n",
       "  </thead>\n",
       "  <tbody>\n",
       "    <tr>\n",
       "      <th>8</th>\n",
       "      <td>4101.0</td>\n",
       "      <td>2.319168</td>\n",
       "      <td>-310.827850</td>\n",
       "      <td>-420.966187</td>\n",
       "      <td>247.481247</td>\n",
       "      <td>6213.0</td>\n",
       "      <td>452.0</td>\n",
       "      <td>138.0</td>\n",
       "    </tr>\n",
       "    <tr>\n",
       "      <th>9</th>\n",
       "      <td>4102.0</td>\n",
       "      <td>2.319168</td>\n",
       "      <td>-26.319592</td>\n",
       "      <td>8.353882</td>\n",
       "      <td>-103.984787</td>\n",
       "      <td>56563.0</td>\n",
       "      <td>22071.0</td>\n",
       "      <td>1470.0</td>\n",
       "    </tr>\n",
       "    <tr>\n",
       "      <th>10</th>\n",
       "      <td>4103.0</td>\n",
       "      <td>2.319168</td>\n",
       "      <td>-339.933075</td>\n",
       "      <td>221.349945</td>\n",
       "      <td>275.495026</td>\n",
       "      <td>7822.0</td>\n",
       "      <td>840.0</td>\n",
       "      <td>205.0</td>\n",
       "    </tr>\n",
       "    <tr>\n",
       "      <th>11</th>\n",
       "      <td>4104.0</td>\n",
       "      <td>2.319168</td>\n",
       "      <td>134.183365</td>\n",
       "      <td>-307.201874</td>\n",
       "      <td>-271.457367</td>\n",
       "      <td>11830.0</td>\n",
       "      <td>2772.0</td>\n",
       "      <td>426.0</td>\n",
       "    </tr>\n",
       "    <tr>\n",
       "      <th>12</th>\n",
       "      <td>4107.0</td>\n",
       "      <td>2.319168</td>\n",
       "      <td>417.029205</td>\n",
       "      <td>-134.415924</td>\n",
       "      <td>-583.476624</td>\n",
       "      <td>5321.0</td>\n",
       "      <td>220.0</td>\n",
       "      <td>108.0</td>\n",
       "    </tr>\n",
       "    <tr>\n",
       "      <th>13</th>\n",
       "      <td>4109.0</td>\n",
       "      <td>2.319168</td>\n",
       "      <td>242.590134</td>\n",
       "      <td>-316.148468</td>\n",
       "      <td>-389.808044</td>\n",
       "      <td>7546.0</td>\n",
       "      <td>845.0</td>\n",
       "      <td>228.0</td>\n",
       "    </tr>\n",
       "    <tr>\n",
       "      <th>61</th>\n",
       "      <td>20801.0</td>\n",
       "      <td>1.845631</td>\n",
       "      <td>-259.768555</td>\n",
       "      <td>-57.288132</td>\n",
       "      <td>168.559113</td>\n",
       "      <td>20107.0</td>\n",
       "      <td>6865.0</td>\n",
       "      <td>747.0</td>\n",
       "    </tr>\n",
       "    <tr>\n",
       "      <th>62</th>\n",
       "      <td>20805.0</td>\n",
       "      <td>1.845631</td>\n",
       "      <td>230.542770</td>\n",
       "      <td>281.410248</td>\n",
       "      <td>-371.334351</td>\n",
       "      <td>5326.0</td>\n",
       "      <td>244.0</td>\n",
       "      <td>107.0</td>\n",
       "    </tr>\n",
       "    <tr>\n",
       "      <th>63</th>\n",
       "      <td>20806.0</td>\n",
       "      <td>1.845631</td>\n",
       "      <td>98.375465</td>\n",
       "      <td>232.417664</td>\n",
       "      <td>-228.602280</td>\n",
       "      <td>9427.0</td>\n",
       "      <td>1925.0</td>\n",
       "      <td>334.0</td>\n",
       "    </tr>\n",
       "    <tr>\n",
       "      <th>64</th>\n",
       "      <td>20807.0</td>\n",
       "      <td>1.845631</td>\n",
       "      <td>256.929321</td>\n",
       "      <td>102.209694</td>\n",
       "      <td>-408.870819</td>\n",
       "      <td>8445.0</td>\n",
       "      <td>1006.0</td>\n",
       "      <td>221.0</td>\n",
       "    </tr>\n",
       "    <tr>\n",
       "      <th>65</th>\n",
       "      <td>20809.0</td>\n",
       "      <td>1.845631</td>\n",
       "      <td>-94.895027</td>\n",
       "      <td>-437.929535</td>\n",
       "      <td>-5.569755</td>\n",
       "      <td>6448.0</td>\n",
       "      <td>509.0</td>\n",
       "      <td>145.0</td>\n",
       "    </tr>\n",
       "    <tr>\n",
       "      <th>78</th>\n",
       "      <td>23001.0</td>\n",
       "      <td>1.068904</td>\n",
       "      <td>178.471939</td>\n",
       "      <td>-348.193176</td>\n",
       "      <td>-316.194580</td>\n",
       "      <td>3990.0</td>\n",
       "      <td>387.0</td>\n",
       "      <td>148.0</td>\n",
       "    </tr>\n",
       "    <tr>\n",
       "      <th>79</th>\n",
       "      <td>23008.0</td>\n",
       "      <td>1.068904</td>\n",
       "      <td>189.990524</td>\n",
       "      <td>-280.573639</td>\n",
       "      <td>-333.326874</td>\n",
       "      <td>4962.0</td>\n",
       "      <td>696.0</td>\n",
       "      <td>192.0</td>\n",
       "    </tr>\n",
       "    <tr>\n",
       "      <th>80</th>\n",
       "      <td>23009.0</td>\n",
       "      <td>1.068904</td>\n",
       "      <td>-109.259125</td>\n",
       "      <td>-246.728531</td>\n",
       "      <td>-2.820881</td>\n",
       "      <td>13046.0</td>\n",
       "      <td>3763.0</td>\n",
       "      <td>515.0</td>\n",
       "    </tr>\n",
       "    <tr>\n",
       "      <th>81</th>\n",
       "      <td>23302.0</td>\n",
       "      <td>2.166040</td>\n",
       "      <td>-402.823425</td>\n",
       "      <td>-81.201981</td>\n",
       "      <td>344.402100</td>\n",
       "      <td>8909.0</td>\n",
       "      <td>1137.0</td>\n",
       "      <td>284.0</td>\n",
       "    </tr>\n",
       "    <tr>\n",
       "      <th>94</th>\n",
       "      <td>31701.0</td>\n",
       "      <td>2.121188</td>\n",
       "      <td>-349.149780</td>\n",
       "      <td>-67.635468</td>\n",
       "      <td>277.897552</td>\n",
       "      <td>12573.0</td>\n",
       "      <td>2743.0</td>\n",
       "      <td>437.0</td>\n",
       "    </tr>\n",
       "    <tr>\n",
       "      <th>95</th>\n",
       "      <td>31706.0</td>\n",
       "      <td>2.121188</td>\n",
       "      <td>-18.361425</td>\n",
       "      <td>-365.213257</td>\n",
       "      <td>-97.223045</td>\n",
       "      <td>11561.0</td>\n",
       "      <td>1689.0</td>\n",
       "      <td>272.0</td>\n",
       "    </tr>\n",
       "    <tr>\n",
       "      <th>96</th>\n",
       "      <td>31709.0</td>\n",
       "      <td>2.121188</td>\n",
       "      <td>50.269077</td>\n",
       "      <td>-306.499146</td>\n",
       "      <td>-178.713913</td>\n",
       "      <td>15150.0</td>\n",
       "      <td>3333.0</td>\n",
       "      <td>413.0</td>\n",
       "    </tr>\n",
       "    <tr>\n",
       "      <th>147</th>\n",
       "      <td>49904.0</td>\n",
       "      <td>1.525326</td>\n",
       "      <td>-258.748627</td>\n",
       "      <td>336.809723</td>\n",
       "      <td>187.231552</td>\n",
       "      <td>4678.0</td>\n",
       "      <td>408.0</td>\n",
       "      <td>148.0</td>\n",
       "    </tr>\n",
       "    <tr>\n",
       "      <th>148</th>\n",
       "      <td>49909.0</td>\n",
       "      <td>1.525326</td>\n",
       "      <td>12.800135</td>\n",
       "      <td>361.916290</td>\n",
       "      <td>-125.810562</td>\n",
       "      <td>4718.0</td>\n",
       "      <td>356.0</td>\n",
       "      <td>124.0</td>\n",
       "    </tr>\n",
       "    <tr>\n",
       "      <th>177</th>\n",
       "      <td>58600.0</td>\n",
       "      <td>1.304548</td>\n",
       "      <td>202.068924</td>\n",
       "      <td>-200.502747</td>\n",
       "      <td>-351.802032</td>\n",
       "      <td>7927.0</td>\n",
       "      <td>1827.0</td>\n",
       "      <td>394.0</td>\n",
       "    </tr>\n",
       "    <tr>\n",
       "      <th>178</th>\n",
       "      <td>58602.0</td>\n",
       "      <td>1.304548</td>\n",
       "      <td>333.450714</td>\n",
       "      <td>-366.890167</td>\n",
       "      <td>-488.723236</td>\n",
       "      <td>2786.0</td>\n",
       "      <td>124.0</td>\n",
       "      <td>69.0</td>\n",
       "    </tr>\n",
       "    <tr>\n",
       "      <th>179</th>\n",
       "      <td>58603.0</td>\n",
       "      <td>1.304548</td>\n",
       "      <td>-161.108887</td>\n",
       "      <td>-491.960480</td>\n",
       "      <td>74.721100</td>\n",
       "      <td>3348.0</td>\n",
       "      <td>246.0</td>\n",
       "      <td>117.0</td>\n",
       "    </tr>\n",
       "    <tr>\n",
       "      <th>180</th>\n",
       "      <td>58605.0</td>\n",
       "      <td>1.304548</td>\n",
       "      <td>8.122320</td>\n",
       "      <td>-242.892303</td>\n",
       "      <td>-136.994110</td>\n",
       "      <td>15135.0</td>\n",
       "      <td>5282.0</td>\n",
       "      <td>633.0</td>\n",
       "    </tr>\n",
       "    <tr>\n",
       "      <th>247</th>\n",
       "      <td>75000.0</td>\n",
       "      <td>1.119713</td>\n",
       "      <td>276.834106</td>\n",
       "      <td>-15.867627</td>\n",
       "      <td>-433.235260</td>\n",
       "      <td>6014.0</td>\n",
       "      <td>876.0</td>\n",
       "      <td>218.0</td>\n",
       "    </tr>\n",
       "    <tr>\n",
       "      <th>248</th>\n",
       "      <td>75009.0</td>\n",
       "      <td>1.119713</td>\n",
       "      <td>-233.455292</td>\n",
       "      <td>-194.373962</td>\n",
       "      <td>141.149353</td>\n",
       "      <td>10267.0</td>\n",
       "      <td>2520.0</td>\n",
       "      <td>394.0</td>\n",
       "    </tr>\n",
       "    <tr>\n",
       "      <th>401</th>\n",
       "      <td>128100.0</td>\n",
       "      <td>3.200538</td>\n",
       "      <td>-438.222839</td>\n",
       "      <td>-353.964264</td>\n",
       "      <td>393.777802</td>\n",
       "      <td>6561.0</td>\n",
       "      <td>101.0</td>\n",
       "      <td>64.0</td>\n",
       "    </tr>\n",
       "    <tr>\n",
       "      <th>402</th>\n",
       "      <td>128101.0</td>\n",
       "      <td>3.200538</td>\n",
       "      <td>-356.850220</td>\n",
       "      <td>-348.014343</td>\n",
       "      <td>295.669769</td>\n",
       "      <td>9174.0</td>\n",
       "      <td>370.0</td>\n",
       "      <td>135.0</td>\n",
       "    </tr>\n",
       "    <tr>\n",
       "      <th>403</th>\n",
       "      <td>128104.0</td>\n",
       "      <td>3.200538</td>\n",
       "      <td>-250.500000</td>\n",
       "      <td>-323.827820</td>\n",
       "      <td>169.504700</td>\n",
       "      <td>15073.0</td>\n",
       "      <td>1859.0</td>\n",
       "      <td>357.0</td>\n",
       "    </tr>\n",
       "    <tr>\n",
       "      <th>404</th>\n",
       "      <td>128106.0</td>\n",
       "      <td>3.200538</td>\n",
       "      <td>204.889877</td>\n",
       "      <td>167.561539</td>\n",
       "      <td>-349.688202</td>\n",
       "      <td>14612.0</td>\n",
       "      <td>1271.0</td>\n",
       "      <td>269.0</td>\n",
       "    </tr>\n",
       "    <tr>\n",
       "      <th>405</th>\n",
       "      <td>128108.0</td>\n",
       "      <td>3.200538</td>\n",
       "      <td>-144.228821</td>\n",
       "      <td>-82.965240</td>\n",
       "      <td>30.518389</td>\n",
       "      <td>128191.0</td>\n",
       "      <td>46315.0</td>\n",
       "      <td>1731.0</td>\n",
       "    </tr>\n",
       "    <tr>\n",
       "      <th>406</th>\n",
       "      <td>128109.0</td>\n",
       "      <td>3.200538</td>\n",
       "      <td>-372.803467</td>\n",
       "      <td>24.446142</td>\n",
       "      <td>306.783508</td>\n",
       "      <td>15749.0</td>\n",
       "      <td>1892.0</td>\n",
       "      <td>357.0</td>\n",
       "    </tr>\n",
       "    <tr>\n",
       "      <th>417</th>\n",
       "      <td>131301.0</td>\n",
       "      <td>19.884401</td>\n",
       "      <td>-124.334435</td>\n",
       "      <td>-172.767853</td>\n",
       "      <td>10.938623</td>\n",
       "      <td>590480.0</td>\n",
       "      <td>181854.0</td>\n",
       "      <td>2232.0</td>\n",
       "    </tr>\n",
       "    <tr>\n",
       "      <th>418</th>\n",
       "      <td>131302.0</td>\n",
       "      <td>19.884401</td>\n",
       "      <td>-25.801918</td>\n",
       "      <td>61.654839</td>\n",
       "      <td>-102.513039</td>\n",
       "      <td>847958.0</td>\n",
       "      <td>283949.0</td>\n",
       "      <td>2732.0</td>\n",
       "    </tr>\n",
       "    <tr>\n",
       "      <th>419</th>\n",
       "      <td>131303.0</td>\n",
       "      <td>19.884401</td>\n",
       "      <td>-344.575928</td>\n",
       "      <td>-176.174545</td>\n",
       "      <td>275.018555</td>\n",
       "      <td>112874.0</td>\n",
       "      <td>4241.0</td>\n",
       "      <td>353.0</td>\n",
       "    </tr>\n",
       "    <tr>\n",
       "      <th>420</th>\n",
       "      <td>131306.0</td>\n",
       "      <td>19.884401</td>\n",
       "      <td>-2.887213</td>\n",
       "      <td>154.404602</td>\n",
       "      <td>-121.279793</td>\n",
       "      <td>236527.0</td>\n",
       "      <td>37967.0</td>\n",
       "      <td>1149.0</td>\n",
       "    </tr>\n",
       "    <tr>\n",
       "      <th>480</th>\n",
       "      <td>151901.0</td>\n",
       "      <td>1.041162</td>\n",
       "      <td>-239.990005</td>\n",
       "      <td>-42.070023</td>\n",
       "      <td>145.234543</td>\n",
       "      <td>15059.0</td>\n",
       "      <td>5437.0</td>\n",
       "      <td>656.0</td>\n",
       "    </tr>\n",
       "    <tr>\n",
       "      <th>481</th>\n",
       "      <td>151902.0</td>\n",
       "      <td>1.041162</td>\n",
       "      <td>-331.979675</td>\n",
       "      <td>-45.165394</td>\n",
       "      <td>257.018066</td>\n",
       "      <td>6805.0</td>\n",
       "      <td>1807.0</td>\n",
       "      <td>411.0</td>\n",
       "    </tr>\n",
       "    <tr>\n",
       "      <th>482</th>\n",
       "      <td>151903.0</td>\n",
       "      <td>1.041162</td>\n",
       "      <td>-326.129425</td>\n",
       "      <td>-7.360199</td>\n",
       "      <td>249.731750</td>\n",
       "      <td>7257.0</td>\n",
       "      <td>1936.0</td>\n",
       "      <td>396.0</td>\n",
       "    </tr>\n",
       "    <tr>\n",
       "      <th>483</th>\n",
       "      <td>151906.0</td>\n",
       "      <td>1.041162</td>\n",
       "      <td>-157.314987</td>\n",
       "      <td>118.833588</td>\n",
       "      <td>51.857155</td>\n",
       "      <td>13056.0</td>\n",
       "      <td>4443.0</td>\n",
       "      <td>612.0</td>\n",
       "    </tr>\n",
       "    <tr>\n",
       "      <th>484</th>\n",
       "      <td>151909.0</td>\n",
       "      <td>1.041162</td>\n",
       "      <td>-475.466187</td>\n",
       "      <td>15.538400</td>\n",
       "      <td>431.884796</td>\n",
       "      <td>3179.0</td>\n",
       "      <td>212.0</td>\n",
       "      <td>113.0</td>\n",
       "    </tr>\n",
       "    <tr>\n",
       "      <th>759</th>\n",
       "      <td>251905.0</td>\n",
       "      <td>1.353857</td>\n",
       "      <td>-360.715820</td>\n",
       "      <td>-39.649090</td>\n",
       "      <td>293.589966</td>\n",
       "      <td>8358.0</td>\n",
       "      <td>710.0</td>\n",
       "      <td>145.0</td>\n",
       "    </tr>\n",
       "    <tr>\n",
       "      <th>837</th>\n",
       "      <td>288302.0</td>\n",
       "      <td>1.252782</td>\n",
       "      <td>-26.169598</td>\n",
       "      <td>-343.693756</td>\n",
       "      <td>-90.090126</td>\n",
       "      <td>7636.0</td>\n",
       "      <td>1204.0</td>\n",
       "      <td>265.0</td>\n",
       "    </tr>\n",
       "    <tr>\n",
       "      <th>838</th>\n",
       "      <td>288308.0</td>\n",
       "      <td>1.252782</td>\n",
       "      <td>308.404022</td>\n",
       "      <td>115.709305</td>\n",
       "      <td>-465.411163</td>\n",
       "      <td>3848.0</td>\n",
       "      <td>221.0</td>\n",
       "      <td>98.0</td>\n",
       "    </tr>\n",
       "    <tr>\n",
       "      <th>914</th>\n",
       "      <td>316600.0</td>\n",
       "      <td>1.263530</td>\n",
       "      <td>125.800056</td>\n",
       "      <td>-494.085236</td>\n",
       "      <td>-249.219696</td>\n",
       "      <td>3735.0</td>\n",
       "      <td>228.0</td>\n",
       "      <td>108.0</td>\n",
       "    </tr>\n",
       "    <tr>\n",
       "      <th>915</th>\n",
       "      <td>316603.0</td>\n",
       "      <td>1.263530</td>\n",
       "      <td>-149.847809</td>\n",
       "      <td>-174.608139</td>\n",
       "      <td>39.652641</td>\n",
       "      <td>23579.0</td>\n",
       "      <td>8584.0</td>\n",
       "      <td>756.0</td>\n",
       "    </tr>\n",
       "    <tr>\n",
       "      <th>916</th>\n",
       "      <td>316604.0</td>\n",
       "      <td>1.263530</td>\n",
       "      <td>-301.947632</td>\n",
       "      <td>343.789795</td>\n",
       "      <td>237.329773</td>\n",
       "      <td>2871.0</td>\n",
       "      <td>245.0</td>\n",
       "      <td>120.0</td>\n",
       "    </tr>\n",
       "    <tr>\n",
       "      <th>917</th>\n",
       "      <td>316605.0</td>\n",
       "      <td>1.263530</td>\n",
       "      <td>-292.160767</td>\n",
       "      <td>-185.175690</td>\n",
       "      <td>209.650146</td>\n",
       "      <td>8115.0</td>\n",
       "      <td>2056.0</td>\n",
       "      <td>401.0</td>\n",
       "    </tr>\n",
       "    <tr>\n",
       "      <th>918</th>\n",
       "      <td>316606.0</td>\n",
       "      <td>1.263530</td>\n",
       "      <td>-154.334473</td>\n",
       "      <td>73.179764</td>\n",
       "      <td>45.291195</td>\n",
       "      <td>21245.0</td>\n",
       "      <td>7623.0</td>\n",
       "      <td>756.0</td>\n",
       "    </tr>\n",
       "    <tr>\n",
       "      <th>919</th>\n",
       "      <td>316609.0</td>\n",
       "      <td>1.263530</td>\n",
       "      <td>-165.538361</td>\n",
       "      <td>-240.024155</td>\n",
       "      <td>62.424614</td>\n",
       "      <td>12748.0</td>\n",
       "      <td>4146.0</td>\n",
       "      <td>605.0</td>\n",
       "    </tr>\n",
       "    <tr>\n",
       "      <th>943</th>\n",
       "      <td>323000.0</td>\n",
       "      <td>1.350574</td>\n",
       "      <td>128.786667</td>\n",
       "      <td>117.327484</td>\n",
       "      <td>-271.113068</td>\n",
       "      <td>10118.0</td>\n",
       "      <td>2913.0</td>\n",
       "      <td>491.0</td>\n",
       "    </tr>\n",
       "    <tr>\n",
       "      <th>944</th>\n",
       "      <td>323001.0</td>\n",
       "      <td>1.350574</td>\n",
       "      <td>323.246185</td>\n",
       "      <td>-24.900478</td>\n",
       "      <td>-483.585602</td>\n",
       "      <td>4591.0</td>\n",
       "      <td>646.0</td>\n",
       "      <td>236.0</td>\n",
       "    </tr>\n",
       "    <tr>\n",
       "      <th>945</th>\n",
       "      <td>323005.0</td>\n",
       "      <td>1.350574</td>\n",
       "      <td>149.806442</td>\n",
       "      <td>-344.433777</td>\n",
       "      <td>-287.381104</td>\n",
       "      <td>5757.0</td>\n",
       "      <td>924.0</td>\n",
       "      <td>294.0</td>\n",
       "    </tr>\n",
       "    <tr>\n",
       "      <th>946</th>\n",
       "      <td>323006.0</td>\n",
       "      <td>1.350574</td>\n",
       "      <td>-421.308563</td>\n",
       "      <td>-329.014374</td>\n",
       "      <td>371.670868</td>\n",
       "      <td>3384.0</td>\n",
       "      <td>194.0</td>\n",
       "      <td>106.0</td>\n",
       "    </tr>\n",
       "    <tr>\n",
       "      <th>947</th>\n",
       "      <td>323008.0</td>\n",
       "      <td>1.350574</td>\n",
       "      <td>-5.430380</td>\n",
       "      <td>-246.712906</td>\n",
       "      <td>-121.706314</td>\n",
       "      <td>15356.0</td>\n",
       "      <td>5044.0</td>\n",
       "      <td>636.0</td>\n",
       "    </tr>\n",
       "    <tr>\n",
       "      <th>951</th>\n",
       "      <td>325101.0</td>\n",
       "      <td>1.588324</td>\n",
       "      <td>-393.466766</td>\n",
       "      <td>-299.129791</td>\n",
       "      <td>338.163544</td>\n",
       "      <td>5657.0</td>\n",
       "      <td>160.0</td>\n",
       "      <td>70.0</td>\n",
       "    </tr>\n",
       "    <tr>\n",
       "      <th>952</th>\n",
       "      <td>325104.0</td>\n",
       "      <td>1.588324</td>\n",
       "      <td>178.677551</td>\n",
       "      <td>72.002052</td>\n",
       "      <td>-326.530518</td>\n",
       "      <td>11940.0</td>\n",
       "      <td>2175.0</td>\n",
       "      <td>364.0</td>\n",
       "    </tr>\n",
       "    <tr>\n",
       "      <th>953</th>\n",
       "      <td>325107.0</td>\n",
       "      <td>1.588324</td>\n",
       "      <td>-77.293587</td>\n",
       "      <td>323.558411</td>\n",
       "      <td>-24.937277</td>\n",
       "      <td>6325.0</td>\n",
       "      <td>252.0</td>\n",
       "      <td>95.0</td>\n",
       "    </tr>\n",
       "  </tbody>\n",
       "</table>\n",
       "</div>"
      ],
      "text/plain": [
       "     event_id     energy       xcore       ycore     ev_time  nphotons  \\\n",
       "8      4101.0   2.319168 -310.827850 -420.966187  247.481247    6213.0   \n",
       "9      4102.0   2.319168  -26.319592    8.353882 -103.984787   56563.0   \n",
       "10     4103.0   2.319168 -339.933075  221.349945  275.495026    7822.0   \n",
       "11     4104.0   2.319168  134.183365 -307.201874 -271.457367   11830.0   \n",
       "12     4107.0   2.319168  417.029205 -134.415924 -583.476624    5321.0   \n",
       "13     4109.0   2.319168  242.590134 -316.148468 -389.808044    7546.0   \n",
       "61    20801.0   1.845631 -259.768555  -57.288132  168.559113   20107.0   \n",
       "62    20805.0   1.845631  230.542770  281.410248 -371.334351    5326.0   \n",
       "63    20806.0   1.845631   98.375465  232.417664 -228.602280    9427.0   \n",
       "64    20807.0   1.845631  256.929321  102.209694 -408.870819    8445.0   \n",
       "65    20809.0   1.845631  -94.895027 -437.929535   -5.569755    6448.0   \n",
       "78    23001.0   1.068904  178.471939 -348.193176 -316.194580    3990.0   \n",
       "79    23008.0   1.068904  189.990524 -280.573639 -333.326874    4962.0   \n",
       "80    23009.0   1.068904 -109.259125 -246.728531   -2.820881   13046.0   \n",
       "81    23302.0   2.166040 -402.823425  -81.201981  344.402100    8909.0   \n",
       "94    31701.0   2.121188 -349.149780  -67.635468  277.897552   12573.0   \n",
       "95    31706.0   2.121188  -18.361425 -365.213257  -97.223045   11561.0   \n",
       "96    31709.0   2.121188   50.269077 -306.499146 -178.713913   15150.0   \n",
       "147   49904.0   1.525326 -258.748627  336.809723  187.231552    4678.0   \n",
       "148   49909.0   1.525326   12.800135  361.916290 -125.810562    4718.0   \n",
       "177   58600.0   1.304548  202.068924 -200.502747 -351.802032    7927.0   \n",
       "178   58602.0   1.304548  333.450714 -366.890167 -488.723236    2786.0   \n",
       "179   58603.0   1.304548 -161.108887 -491.960480   74.721100    3348.0   \n",
       "180   58605.0   1.304548    8.122320 -242.892303 -136.994110   15135.0   \n",
       "247   75000.0   1.119713  276.834106  -15.867627 -433.235260    6014.0   \n",
       "248   75009.0   1.119713 -233.455292 -194.373962  141.149353   10267.0   \n",
       "401  128100.0   3.200538 -438.222839 -353.964264  393.777802    6561.0   \n",
       "402  128101.0   3.200538 -356.850220 -348.014343  295.669769    9174.0   \n",
       "403  128104.0   3.200538 -250.500000 -323.827820  169.504700   15073.0   \n",
       "404  128106.0   3.200538  204.889877  167.561539 -349.688202   14612.0   \n",
       "405  128108.0   3.200538 -144.228821  -82.965240   30.518389  128191.0   \n",
       "406  128109.0   3.200538 -372.803467   24.446142  306.783508   15749.0   \n",
       "417  131301.0  19.884401 -124.334435 -172.767853   10.938623  590480.0   \n",
       "418  131302.0  19.884401  -25.801918   61.654839 -102.513039  847958.0   \n",
       "419  131303.0  19.884401 -344.575928 -176.174545  275.018555  112874.0   \n",
       "420  131306.0  19.884401   -2.887213  154.404602 -121.279793  236527.0   \n",
       "480  151901.0   1.041162 -239.990005  -42.070023  145.234543   15059.0   \n",
       "481  151902.0   1.041162 -331.979675  -45.165394  257.018066    6805.0   \n",
       "482  151903.0   1.041162 -326.129425   -7.360199  249.731750    7257.0   \n",
       "483  151906.0   1.041162 -157.314987  118.833588   51.857155   13056.0   \n",
       "484  151909.0   1.041162 -475.466187   15.538400  431.884796    3179.0   \n",
       "759  251905.0   1.353857 -360.715820  -39.649090  293.589966    8358.0   \n",
       "837  288302.0   1.252782  -26.169598 -343.693756  -90.090126    7636.0   \n",
       "838  288308.0   1.252782  308.404022  115.709305 -465.411163    3848.0   \n",
       "914  316600.0   1.263530  125.800056 -494.085236 -249.219696    3735.0   \n",
       "915  316603.0   1.263530 -149.847809 -174.608139   39.652641   23579.0   \n",
       "916  316604.0   1.263530 -301.947632  343.789795  237.329773    2871.0   \n",
       "917  316605.0   1.263530 -292.160767 -185.175690  209.650146    8115.0   \n",
       "918  316606.0   1.263530 -154.334473   73.179764   45.291195   21245.0   \n",
       "919  316609.0   1.263530 -165.538361 -240.024155   62.424614   12748.0   \n",
       "943  323000.0   1.350574  128.786667  117.327484 -271.113068   10118.0   \n",
       "944  323001.0   1.350574  323.246185  -24.900478 -483.585602    4591.0   \n",
       "945  323005.0   1.350574  149.806442 -344.433777 -287.381104    5757.0   \n",
       "946  323006.0   1.350574 -421.308563 -329.014374  371.670868    3384.0   \n",
       "947  323008.0   1.350574   -5.430380 -246.712906 -121.706314   15356.0   \n",
       "951  325101.0   1.588324 -393.466766 -299.129791  338.163544    5657.0   \n",
       "952  325104.0   1.588324  178.677551   72.002052 -326.530518   11940.0   \n",
       "953  325107.0   1.588324  -77.293587  323.558411  -24.937277    6325.0   \n",
       "\n",
       "         n_pe  n_pixels  \n",
       "8       452.0     138.0  \n",
       "9     22071.0    1470.0  \n",
       "10      840.0     205.0  \n",
       "11     2772.0     426.0  \n",
       "12      220.0     108.0  \n",
       "13      845.0     228.0  \n",
       "61     6865.0     747.0  \n",
       "62      244.0     107.0  \n",
       "63     1925.0     334.0  \n",
       "64     1006.0     221.0  \n",
       "65      509.0     145.0  \n",
       "78      387.0     148.0  \n",
       "79      696.0     192.0  \n",
       "80     3763.0     515.0  \n",
       "81     1137.0     284.0  \n",
       "94     2743.0     437.0  \n",
       "95     1689.0     272.0  \n",
       "96     3333.0     413.0  \n",
       "147     408.0     148.0  \n",
       "148     356.0     124.0  \n",
       "177    1827.0     394.0  \n",
       "178     124.0      69.0  \n",
       "179     246.0     117.0  \n",
       "180    5282.0     633.0  \n",
       "247     876.0     218.0  \n",
       "248    2520.0     394.0  \n",
       "401     101.0      64.0  \n",
       "402     370.0     135.0  \n",
       "403    1859.0     357.0  \n",
       "404    1271.0     269.0  \n",
       "405   46315.0    1731.0  \n",
       "406    1892.0     357.0  \n",
       "417  181854.0    2232.0  \n",
       "418  283949.0    2732.0  \n",
       "419    4241.0     353.0  \n",
       "420   37967.0    1149.0  \n",
       "480    5437.0     656.0  \n",
       "481    1807.0     411.0  \n",
       "482    1936.0     396.0  \n",
       "483    4443.0     612.0  \n",
       "484     212.0     113.0  \n",
       "759     710.0     145.0  \n",
       "837    1204.0     265.0  \n",
       "838     221.0      98.0  \n",
       "914     228.0     108.0  \n",
       "915    8584.0     756.0  \n",
       "916     245.0     120.0  \n",
       "917    2056.0     401.0  \n",
       "918    7623.0     756.0  \n",
       "919    4146.0     605.0  \n",
       "943    2913.0     491.0  \n",
       "944     646.0     236.0  \n",
       "945     924.0     294.0  \n",
       "946     194.0     106.0  \n",
       "947    5044.0     636.0  \n",
       "951     160.0      70.0  \n",
       "952    2175.0     364.0  \n",
       "953     252.0      95.0  "
      ]
     },
     "execution_count": 8,
     "metadata": {},
     "output_type": "execute_result"
    }
   ],
   "source": [
    "df_header_short[(df_header_short['energy']>1.0)]"
   ]
  },
  {
   "cell_type": "code",
   "execution_count": 9,
   "id": "c4c57d63",
   "metadata": {},
   "outputs": [],
   "source": [
    "ev_ID=9"
   ]
  },
  {
   "cell_type": "code",
   "execution_count": 10,
   "id": "8c86e215",
   "metadata": {},
   "outputs": [
    {
     "data": {
      "text/plain": [
       "event_id     4102.000000\n",
       "energy          2.319168\n",
       "xcore         -26.319592\n",
       "ycore           8.353882\n",
       "ev_time      -103.984787\n",
       "nphotons    56563.000000\n",
       "n_pe        22071.000000\n",
       "n_pixels     1470.000000\n",
       "Name: 9, dtype: float64"
      ]
     },
     "execution_count": 10,
     "metadata": {},
     "output_type": "execute_result"
    }
   ],
   "source": [
    "df_header_short.iloc[ev_ID]"
   ]
  },
  {
   "cell_type": "code",
   "execution_count": 11,
   "id": "a443017f",
   "metadata": {},
   "outputs": [
    {
     "data": {
      "text/plain": [
       "4102"
      ]
     },
     "execution_count": 11,
     "metadata": {},
     "output_type": "execute_result"
    }
   ],
   "source": [
    "ev_sim_id=int(df_header_short.iloc[ev_ID]['event_id'])\n",
    "ev_sim_id"
   ]
  },
  {
   "cell_type": "code",
   "execution_count": 12,
   "id": "6040eee6",
   "metadata": {},
   "outputs": [
    {
     "data": {
      "image/png": "[encoded data removed]",
      "text/plain": [
       "<Figure size 640x480 with 1 Axes>"
      ]
     },
     "metadata": {},
     "output_type": "display_data"
    }
   ],
   "source": [
    "plt.hist(df_pe_inf[df_pe_inf['event_id']==ev_sim_id]['time']-df_header_short.iloc[ev_ID]['ev_time']+time_offset,\n",
    "         bins=100,range=(30,40));"
   ]
  },
  {
   "cell_type": "code",
   "execution_count": 13,
   "id": "700f290c",
   "metadata": {},
   "outputs": [],
   "source": [
    "df_header_single_ev=df_header_short.iloc[ev_ID]\n",
    "df_pe_inf_single_ev=df_pe_inf[df_pe_inf['event_id']==ev_sim_id]"
   ]
  },
  {
   "cell_type": "code",
   "execution_count": 14,
   "id": "601cfc74",
   "metadata": {},
   "outputs": [
    {
     "data": {
      "text/plain": [
       "event_id     4102.000000\n",
       "energy          2.319168\n",
       "xcore         -26.319592\n",
       "ycore           8.353882\n",
       "ev_time      -103.984787\n",
       "nphotons    56563.000000\n",
       "n_pe        22071.000000\n",
       "n_pixels     1470.000000\n",
       "Name: 9, dtype: float64"
      ]
     },
     "execution_count": 14,
     "metadata": {},
     "output_type": "execute_result"
    }
   ],
   "source": [
    "df_header_single_ev"
   ]
  },
  {
   "cell_type": "code",
   "execution_count": 15,
   "id": "a09ebe23",
   "metadata": {},
   "outputs": [
    {
     "data": {
      "text/plain": [
       "<Axes: >"
      ]
     },
     "execution_count": 15,
     "metadata": {},
     "output_type": "execute_result"
    },
    {
     "data": {
      "image/png": "[encoded data removed]",
      "text/plain": [
       "<Figure size 1200x600 with 1 Axes>"
      ]
     },
     "metadata": {},
     "output_type": "display_data"
    }
   ],
   "source": [
    "df_pe_inf_single_ev['pixel_id'].hist(bins=100,range=(6925,6930),figsize=(12,6))"
   ]
  },
  {
   "cell_type": "code",
   "execution_count": 16,
   "id": "17bafa5b",
   "metadata": {},
   "outputs": [],
   "source": [
    "ch_ID=6928"
   ]
  },
  {
   "cell_type": "code",
   "execution_count": 17,
   "id": "e3049e2b",
   "metadata": {},
   "outputs": [
    {
     "data": {
      "text/plain": [
       "(30.0, 40.0)"
      ]
     },
     "execution_count": 17,
     "metadata": {},
     "output_type": "execute_result"
    },
    {
     "data": {
      "image/png": "[encoded data removed]",
      "text/plain": [
       "<Figure size 1000x500 with 1 Axes>"
      ]
     },
     "metadata": {},
     "output_type": "display_data"
    }
   ],
   "source": [
    "fig01, ax01 = plt.subplots(figsize=(10, 5))\n",
    "ax01.plot(wf_times,wf_inf[ch_ID,:,ev_ID])\n",
    "plt.xlim([30, 40])"
   ]
  },
  {
   "cell_type": "code",
   "execution_count": 18,
   "id": "fbf5e26b",
   "metadata": {},
   "outputs": [],
   "source": [
    "df_tmp=df_pe_inf[df_pe_inf['event_id']==ev_sim_id]"
   ]
  },
  {
   "cell_type": "code",
   "execution_count": 19,
   "id": "f97c504e",
   "metadata": {},
   "outputs": [
    {
     "data": {
      "text/plain": [
       "(30.0, 40.0)"
      ]
     },
     "execution_count": 19,
     "metadata": {},
     "output_type": "execute_result"
    },
    {
     "data": {
      "image/png": "[encoded data removed]",
      "text/plain": [
       "<Figure size 1000x500 with 1 Axes>"
      ]
     },
     "metadata": {},
     "output_type": "display_data"
    }
   ],
   "source": [
    "fig02, ax02 = plt.subplots(figsize=(10, 5))\n",
    "ax02.hist(df_tmp[df_tmp['pixel_id']==6928]['time'] - df_header_short.iloc[ev_ID]['ev_time']+time_offset,\n",
    "         bins=100,range=(20,50));\n",
    "plt.xlim([30, 40])"
   ]
  },
  {
   "cell_type": "code",
   "execution_count": 20,
   "id": "314b6a23",
   "metadata": {},
   "outputs": [
    {
     "data": {
      "text/plain": [
       "<Axes: >"
      ]
     },
     "execution_count": 20,
     "metadata": {},
     "output_type": "execute_result"
    },
    {
     "data": {
      "image/png": "[encoded data removed]",
      "text/plain": [
       "<Figure size 640x480 with 1 Axes>"
      ]
     },
     "metadata": {},
     "output_type": "display_data"
    }
   ],
   "source": [
    "(df_pe_inf_single_ev[df_pe_inf_single_ev['pixel_id']==6680]['time']-df_header_short.iloc[212]['ev_time']).hist(bins=100)"
   ]
  },
  {
   "cell_type": "code",
   "execution_count": 21,
   "id": "1da6e013",
   "metadata": {},
   "outputs": [
    {
     "data": {
      "text/plain": [
       "795"
      ]
     },
     "execution_count": 21,
     "metadata": {},
     "output_type": "execute_result"
    }
   ],
   "source": [
    "len(df_pe_inf_single_ev[df_pe_inf_single_ev['pixel_id']==6680])"
   ]
  },
  {
   "cell_type": "code",
   "execution_count": 22,
   "id": "5bd231a4",
   "metadata": {},
   "outputs": [
    {
     "data": {
      "text/plain": [
       "355"
      ]
     },
     "execution_count": 22,
     "metadata": {},
     "output_type": "execute_result"
    }
   ],
   "source": [
    "np.max(wf_inf[6680,:,212])"
   ]
  },
  {
   "cell_type": "code",
   "execution_count": 23,
   "id": "e3d9ab21",
   "metadata": {},
   "outputs": [
    {
     "data": {
      "text/plain": [
       "300.15"
      ]
     },
     "execution_count": 23,
     "metadata": {},
     "output_type": "execute_result"
    }
   ],
   "source": [
    "np.mean(wf_inf[6680,0:20,212])"
   ]
  },
  {
   "cell_type": "code",
   "execution_count": 24,
   "id": "e3150e23",
   "metadata": {},
   "outputs": [
    {
     "data": {
      "text/plain": [
       "7.1736538461538455"
      ]
     },
     "execution_count": 24,
     "metadata": {},
     "output_type": "execute_result"
    }
   ],
   "source": [
    "(5893.0-297.55)/780.0"
   ]
  },
  {
   "cell_type": "code",
   "execution_count": 14,
   "id": "3ea2e568",
   "metadata": {},
   "outputs": [],
   "source": [
    "A=np.concatenate((np.zeros((7987, 75))+1,np.zeros((7987, 75))+2,np.zeros((7987, 75))+3))"
   ]
  },
  {
   "cell_type": "code",
   "execution_count": 15,
   "id": "0767bc05",
   "metadata": {},
   "outputs": [
    {
     "data": {
      "text/plain": [
       "(23961, 75)"
      ]
     },
     "execution_count": 15,
     "metadata": {},
     "output_type": "execute_result"
    }
   ],
   "source": [
    "A.shape"
   ]
  },
  {
   "cell_type": "code",
   "execution_count": 16,
   "id": "a2fd7eda",
   "metadata": {},
   "outputs": [
    {
     "data": {
      "text/plain": [
       "3.0"
      ]
     },
     "execution_count": 16,
     "metadata": {},
     "output_type": "execute_result"
    }
   ],
   "source": [
    "23961.0/7987.0"
   ]
  },
  {
   "cell_type": "code",
   "execution_count": null,
   "id": "e04f841f",
   "metadata": {},
   "outputs": [],
   "source": []
  },
  {
   "cell_type": "code",
   "execution_count": 27,
   "id": "9aa6816a",
   "metadata": {},
   "outputs": [
    {
     "name": "stdout",
     "output_type": "stream",
     "text": [
      "1\n",
      "2\n",
      "3\n",
      "4\n",
      "5\n",
      "6\n",
      "7\n",
      "8\n",
      "9\n"
     ]
    }
   ],
   "source": [
    "rr=(np.zeros((7987, 75)),)\n",
    "for i in range(1,10):\n",
    "    rr  = rr + (np.zeros((7987, 75))+i,)"
   ]
  },
  {
   "cell_type": "code",
   "execution_count": 40,
   "id": "9fe06e51",
   "metadata": {},
   "outputs": [
    {
     "data": {
      "text/plain": [
       "(79870, 75)"
      ]
     },
     "execution_count": 40,
     "metadata": {},
     "output_type": "execute_result"
    }
   ],
   "source": [
    "np.concatenate(rr).shape"
   ]
  },
  {
   "cell_type": "code",
   "execution_count": 35,
   "id": "bb1f867e",
   "metadata": {},
   "outputs": [
    {
     "data": {
      "text/plain": [
       "10"
      ]
     },
     "execution_count": 35,
     "metadata": {},
     "output_type": "execute_result"
    }
   ],
   "source": [
    "len(rr)"
   ]
  },
  {
   "cell_type": "code",
   "execution_count": 38,
   "id": "63066f9c",
   "metadata": {},
   "outputs": [
    {
     "ename": "AttributeError",
     "evalue": "'tuple' object has no attribute 'shape'",
     "output_type": "error",
     "traceback": [
      "\u001b[0;31m---------------------------------------------------------------------------\u001b[0m",
      "\u001b[0;31mAttributeError\u001b[0m                            Traceback (most recent call last)",
      "Cell \u001b[0;32mIn[38], line 1\u001b[0m\n\u001b[0;32m----> 1\u001b[0m rr\u001b[38;5;241m.\u001b[39mshape\n",
      "\u001b[0;31mAttributeError\u001b[0m: 'tuple' object has no attribute 'shape'"
     ]
    }
   ],
   "source": [
    "rr.shape"
   ]
  },
  {
   "cell_type": "code",
   "execution_count": 54,
   "id": "7274ecd7",
   "metadata": {},
   "outputs": [
    {
     "name": "stdout",
     "output_type": "stream",
     "text": [
      "2\n"
     ]
    }
   ],
   "source": [
    "if False!=False :\n",
    "    print(1)\n",
    "else:\n",
    "    print(2)"
   ]
  },
  {
   "cell_type": "code",
   "execution_count": 71,
   "id": "628c51b0",
   "metadata": {},
   "outputs": [
    {
     "data": {
      "text/plain": [
       "0"
      ]
     },
     "execution_count": 71,
     "metadata": {},
     "output_type": "execute_result"
    }
   ],
   "source": [
    "2000%1000"
   ]
  },
  {
   "cell_type": "code",
   "execution_count": 73,
   "id": "825a8622",
   "metadata": {},
   "outputs": [
    {
     "name": "stdout",
     "output_type": "stream",
     "text": [
      "0   0\n",
      "10   0\n",
      "20   0\n",
      "30   0\n",
      "40   0\n",
      "50   0\n",
      "60   0\n",
      "70   0\n",
      "80   0\n",
      "90   0\n"
     ]
    }
   ],
   "source": [
    "for i in range(0,100):\n",
    "    if (i%10==0):\n",
    "        print(i,\" \",i%10)"
   ]
  },
  {
   "cell_type": "code",
   "execution_count": null,
   "id": "4976d419",
   "metadata": {},
   "outputs": [],
   "source": []
  }
 ],
 "metadata": {
  "kernelspec": {
   "display_name": "Python 3 (ipykernel)",
   "language": "python",
   "name": "python3"
  },
  "language_info": {
   "codemirror_mode": {
    "name": "ipython",
    "version": 3
   },
   "file_extension": ".py",
   "mimetype": "text/x-python",
   "name": "python",
   "nbconvert_exporter": "python",
   "pygments_lexer": "ipython3",
   "version": "3.11.3"
  }
 },
 "nbformat": 4,
 "nbformat_minor": 5
}
